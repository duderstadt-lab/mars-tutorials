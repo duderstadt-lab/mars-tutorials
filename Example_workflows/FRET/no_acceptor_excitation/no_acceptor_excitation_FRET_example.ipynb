{
 "cells": [
  {
   "cell_type": "markdown",
   "id": "a7b88fa9",
   "metadata": {},
   "source": [
    "<font color=#16A085>\n",
    "    \n",
    "# Python Analysis of the Dynamic FRET example data\n",
    "Extract E and S information and make pretty plots.\n",
    "\n",
    "</font>"
   ]
  },
  {
   "cell_type": "markdown",
   "id": "40c515c9",
   "metadata": {},
   "source": [
    "Written by: Nadia M. Huisjes and Karl E. Duderstadt"
   ]
  },
  {
   "cell_type": "code",
   "execution_count": 1,
   "id": "fb96efe3",
   "metadata": {},
   "outputs": [],
   "source": [
    "# File paths and names\n",
    "file_path_fiji = '/Applications/Fiji-mars.app'  #Path to your Fiji application\n",
    "saved_archive_name = '/Users/karlduderstadt4/git/mars-tutorials/Example_workflows/FRET/no_acceptor_excitation/holliday_junction_merged_corrections_without_aex.yama' #Name of your saved archive"
   ]
  },
  {
   "cell_type": "code",
   "execution_count": 2,
   "id": "e1b7d9b0",
   "metadata": {},
   "outputs": [],
   "source": [
    "# Import packages\n",
    "import imagej\n",
    "import jpype\n",
    "import jpype.imports\n",
    "\n",
    "# Set the path to the local Fiji application if it does not exist yet\n",
    "try:\n",
    "    ij\n",
    "except NameError:\n",
    "    ij = imagej.init(file_path_fiji) \n",
    "    \n",
    "# Import the other packages\n",
    "import scyjava as sc\n",
    "import seaborn as sns\n",
    "import numpy as np\n",
    "import pandas as pd\n",
    "import matplotlib.pyplot as plt\n",
    "import itertools\n",
    "import math\n",
    "from scyjava import jimport\n",
    "File = jimport(\"java.io.File\")\n",
    "from de.mpg.biochem.mars.molecule import SingleMoleculeArchive\n",
    "from scipy.stats import norm\n",
    "from scipy.optimize import curve_fit\n",
    "from matplotlib.gridspec import GridSpec\n",
    "import matplotlib.ticker as ticker\n",
    "import matplotlib.pyplot as plt\n",
    "from scipy.optimize import curve_fit\n",
    "from scipy.stats import binned_statistic\n",
    "\n",
    "plt.rcParams.update({'font.size': 9})\n",
    "\n",
    "# Set up the connection to the archive\n",
    "yamaFile = File(saved_archive_name) \n",
    "archive = SingleMoleculeArchive(yamaFile)"
   ]
  },
  {
   "cell_type": "markdown",
   "id": "94cbb351",
   "metadata": {},
   "source": [
    "#### Define utility functions"
   ]
  },
  {
   "cell_type": "code",
   "execution_count": 3,
   "id": "699b2ce7",
   "metadata": {},
   "outputs": [],
   "source": [
    "def create_df(mol_tags):\n",
    "    '''Create a df from all molecules in the archive that have all tags in the list provided'''\n",
    "    #Create a map to all molecules in the archive\n",
    "    molecules = map(lambda UID: archive.get(UID), archive.getMoleculeUIDs())\n",
    "    \n",
    "    rowsList = []\n",
    "    for molecule in molecules:\n",
    "        if not False in [molecule.hasTag(mol_tag) for mol_tag in mol_tags]:\n",
    "            marsTable = archive.get(molecule.getUID()).getTable()\n",
    "            for row in range(marsTable.getRowCount()):\n",
    "                if math.isnan(marsTable.getValue('iiEapp', row)):\n",
    "                    break\n",
    "                rowDict = {}\n",
    "                rowDict['iiEapp'] = marsTable.getValue('iiEapp', row)\n",
    "                rowDict['E'] = marsTable.getValue('E', row)\n",
    "                rowsList.append(rowDict)\n",
    "                \n",
    "    return pd.DataFrame(rowsList)"
   ]
  },
  {
   "cell_type": "code",
   "execution_count": 4,
   "id": "69dc8bae",
   "metadata": {},
   "outputs": [],
   "source": [
    "def gauss(x,mu,sigma,A):\n",
    "    return A*np.exp(-(x-mu)**2/2/sigma**2)\n",
    "\n",
    "def twoGauss(x,mu1,sigma1,A1,mu2,sigma2,A2):\n",
    "    return A1*np.exp(-(x-mu1)**2/2/sigma1**2)+A2*np.exp(-(x-mu2)**2/2/sigma2**2)\n",
    "\n",
    "def exponentialDecay(x, a, b):\n",
    "    return a * np.exp(-b * x)"
   ]
  },
  {
   "cell_type": "code",
   "execution_count": 5,
   "id": "426a10d7",
   "metadata": {},
   "outputs": [],
   "source": [
    "def fit_two_state_E(df, fit_col, bins, mu1, sigma1, A1, mu2, sigma2, A2):\n",
    "    ''''''\n",
    "    y, bin_edges = np.histogram(df[fit_col], bins, range=(0, 1))\n",
    "    x = (bin_edges[:-1] + bin_edges[1:]) / 2\n",
    "    \n",
    "    expected=(mu1, sigma1, A1, mu2, sigma2, A2)\n",
    "    params,cov=curve_fit(twoGauss,x,y,expected)\n",
    "    \n",
    "    #print('The fitted peak center lies at E =',params[0],'\\n','Sigma:',params[1]) #prints the fit parameters and errors that were found\n",
    "    return (params[0], params[1], params[2], params[3], params[4], params[5])"
   ]
  },
  {
   "cell_type": "markdown",
   "id": "923434f6",
   "metadata": {},
   "source": [
    "#### Import the E and S data from the archive"
   ]
  },
  {
   "cell_type": "code",
   "execution_count": 6,
   "id": "cfec4498",
   "metadata": {},
   "outputs": [],
   "source": [
    "df_FRET = create_df([\"FRET\", \"Accepted\"])\n",
    "df_DO = create_df([\"DO\", \"Accepted\"])"
   ]
  },
  {
   "cell_type": "markdown",
   "id": "1cad14f7",
   "metadata": {},
   "source": [
    "### E and S before corrections"
   ]
  },
  {
   "cell_type": "code",
   "execution_count": 7,
   "id": "2a59e3ec",
   "metadata": {},
   "outputs": [
    {
     "data": {
      "image/png": "[encoded data removed]",
      "text/plain": [
       "<Figure size 432x180 with 1 Axes>"
      ]
     },
     "metadata": {
      "needs_background": "light"
     },
     "output_type": "display_data"
    }
   ],
   "source": [
    "fig, axes = plt.subplots(1,1)\n",
    "\n",
    "axes.hist(df_FRET['iiEapp'],bins=280,color='#9D9D9C',range=(0, 1))\n",
    "axes.set_xlim(0,1)\n",
    "axes.set_ylabel(\"Counts\")\n",
    "axes.set_xlabel(\"E\")\n",
    "fig.set_size_inches(6, 2.5)\n",
    "\n",
    "plt.title(\"Before corrections\")\n",
    "plt.show()"
   ]
  },
  {
   "cell_type": "markdown",
   "id": "804e00c9",
   "metadata": {},
   "source": [
    "### E and S after all corrections"
   ]
  },
  {
   "cell_type": "code",
   "execution_count": 13,
   "id": "2e25b519",
   "metadata": {},
   "outputs": [
    {
     "name": "stdout",
     "output_type": "stream",
     "text": [
      "0.09602395623370107 0.08331912191991882 195.46418059532567\n",
      "0.5169959118968726 0.14540074578016626 155.88951025638565\n"
     ]
    },
    {
     "data": {
      "image/png": "[encoded data removed]",
      "text/plain": [
       "<Figure size 432x180 with 1 Axes>"
      ]
     },
     "metadata": {
      "needs_background": "light"
     },
     "output_type": "display_data"
    }
   ],
   "source": [
    "E_mu1, E_sigma1, E_A1, E_mu2, E_sigma2, E_A2 = fit_two_state_E(df_FRET, 'E', 280, 0.1, 0.1, 200, 0.8, 0.1, 150)\n",
    "x_list = list(np.arange(0,1,0.01))\n",
    "y_list_E = twoGauss(x_list, E_mu1, E_sigma1, E_A1, E_mu2, E_sigma2, E_A2)\n",
    "print(E_mu1, E_sigma1, E_A1)\n",
    "print(E_mu2, E_sigma2, E_A2)\n",
    "plt.rcParams.update({'font.size': 9})\n",
    "fig, axes = plt.subplots(1,1)\n",
    "\n",
    "axes.hist(df_FRET['E'],bins=280,color='#9D9D9C',range=(0, 1))\n",
    "axes.plot(x_list,y_list_E,color='black')\n",
    "axes.set_xlim(0,1)\n",
    "axes.set_ylabel(\"Counts\")\n",
    "axes.set_xlabel(\"E\")\n",
    "fig.set_size_inches(6, 2.5)\n",
    "\n",
    "plt.savefig(\"/Users/karlduderstadt4/Desktop/Final_E_chart.png\",bbox_inches='tight',dpi=300)\n",
    "plt.show()"
   ]
  },
  {
   "cell_type": "code",
   "execution_count": 14,
   "id": "fc8c7c23",
   "metadata": {},
   "outputs": [
    {
     "name": "stdout",
     "output_type": "stream",
     "text": [
      "y0 = 911.59781\n",
      "t = 0.37123\n"
     ]
    },
    {
     "data": {
      "image/png": "[encoded data removed]",
      "text/plain": [
       "<Figure size 432x288 with 1 Axes>"
      ]
     },
     "metadata": {
      "needs_background": "light"
     },
     "output_type": "display_data"
    }
   ],
   "source": [
    "high_E_durations = []\n",
    "molecules = map(lambda UID: archive.get(UID), archive.getMoleculeUIDs())\n",
    "for molecule in molecules:\n",
    "    if molecule.hasTag('FRET') and molecule.hasTag('Accepted'):\n",
    "        segmentsTable = molecule.getSegmentsTable('532_Green_Time_(s)','E')\n",
    "        for row in range(segmentsTable.getRowCount()):\n",
    "            if segmentsTable.getValue(\"A\", row) > 0.4:\n",
    "                state = {}\n",
    "                state['metaUID'] = molecule.getMetadataUID()\n",
    "                state['value'] = segmentsTable.getValue(\"X2\", row) - segmentsTable.getValue(\"X1\", row)\n",
    "                high_E_durations.append(state)\n",
    "                                \n",
    "high_E_durations_df = pd.DataFrame(high_E_durations)\n",
    "    \n",
    "y, bin_edges = np.histogram(high_E_durations_df['value'], bins=20, range=(0.1, 2))\n",
    "x = (bin_edges[:-1] + bin_edges[1:]) / 2\n",
    "\n",
    "popt, _ = curve_fit(exponentialDecay, x, y)\n",
    "a, b = popt\n",
    "print('y0 = %.5f\\nt = %.5f' % (a, 1/b))\n",
    "\n",
    "width = 0.8 * (x[1] - x[0])\n",
    "\n",
    "plt.rcParams.update({'font.size': 18})\n",
    "fig, axes = plt.subplots(1,1)\n",
    "#axes.plot(x, y, lw=3)\n",
    "axes.bar(x, y, align='center', color='#d62728', width=width)\n",
    "axes.text(.95*axes.get_xlim()[-1], .95*axes.get_ylim()[-1], \"n = \"+str(high_E_durations_df['value'].size),\n",
    "horizontalalignment='right',verticalalignment='top')\n",
    "axes.text(.95*axes.get_xlim()[-1], .85*axes.get_ylim()[-1], f\"t = {np.round(1/b,2)}\",\n",
    "horizontalalignment='right',verticalalignment='top')\n",
    "\n",
    "y_line = exponentialDecay(x, a, b)\n",
    "# create a line plot for the mapping function\n",
    "axes.plot(x, y_line, '-', color='.15', lw=2)\n",
    "\n",
    "axes.set_title(\"High E State\")\n",
    "axes.set_xlabel(\"Duration (s)\")\n",
    "axes.set_ylabel(\"Counts\")\n",
    "axes.tick_params(axis='x', labelsize=18)\n",
    "axes.tick_params(axis='y', labelsize=18)\n",
    "sns.despine()\n",
    "\n",
    "plt.savefig(\"/Users/karlduderstadt4/Desktop/High_FRET_chart.png\",dpi=300,bbox_inches='tight')"
   ]
  },
  {
   "cell_type": "code",
   "execution_count": 10,
   "id": "83f90485",
   "metadata": {},
   "outputs": [
    {
     "data": {
      "text/plain": [
       "0.02945842935404683"
      ]
     },
     "execution_count": 10,
     "metadata": {},
     "output_type": "execute_result"
    }
   ],
   "source": [
    "taoList = []\n",
    "metaUIDs = high_E_durations_df['metaUID'].unique()\n",
    "for metaUID in metaUIDs:\n",
    "    y, bin_edges = np.histogram(high_E_durations_df[high_E_durations_df['metaUID'].eq(metaUID)]['value'], bins=20, range=(0.1, 2))\n",
    "    x = (bin_edges[:-1] + bin_edges[1:]) / 2\n",
    "\n",
    "    popt, _ = curve_fit(exponentialDecay, x, y)\n",
    "    a, b = popt\n",
    "    taoList.append(1/b)\n",
    "    \n",
    "np.std(taoList)"
   ]
  },
  {
   "cell_type": "code",
   "execution_count": 15,
   "id": "7edfb030",
   "metadata": {},
   "outputs": [
    {
     "name": "stdout",
     "output_type": "stream",
     "text": [
      "y0 = 1051.27747\n",
      "t1/2 = 0.30383\n"
     ]
    },
    {
     "data": {
      "image/png": "[encoded data removed]",
      "text/plain": [
       "<Figure size 432x288 with 1 Axes>"
      ]
     },
     "metadata": {
      "needs_background": "light"
     },
     "output_type": "display_data"
    }
   ],
   "source": [
    "low_E_durations = []\n",
    "molecules = map(lambda UID: archive.get(UID), archive.getMoleculeUIDs())\n",
    "for molecule in molecules:\n",
    "    if molecule.hasTag('FRET') and molecule.hasTag('Accepted'):\n",
    "        segmentsTable = molecule.getSegmentsTable('532_Green_Time_(s)','E')\n",
    "        for row in range(segmentsTable.getRowCount()):\n",
    "            if segmentsTable.getValue(\"A\", row) < 0.4:\n",
    "                state = {}\n",
    "                state['metaUID'] = molecule.getMetadataUID()\n",
    "                state['value'] = segmentsTable.getValue(\"X2\", row) - segmentsTable.getValue(\"X1\", row)\n",
    "                low_E_durations.append(state)\n",
    "                                \n",
    "low_E_durations_df = pd.DataFrame(low_E_durations)\n",
    "    \n",
    "y, bin_edges = np.histogram(low_E_durations_df['value'], bins=20, range=(0.1, 2))\n",
    "x = (bin_edges[:-1] + bin_edges[1:]) / 2\n",
    "\n",
    "popt, _ = curve_fit(exponentialDecay, x, y)\n",
    "a, b = popt\n",
    "print('y0 = %.5f\\nt1/2 = %.5f' % (a, 1/b))\n",
    "\n",
    "width = 0.8 * (x[1] - x[0])\n",
    "\n",
    "fig, axes = plt.subplots(1,1)\n",
    "axes.bar(x, y, align='center', color='#d62728', width=width)\n",
    "axes.text(.95*axes.get_xlim()[-1], .95*axes.get_ylim()[-1], \"n = \"+str(low_E_durations_df['value'].size),\n",
    "horizontalalignment='right',verticalalignment='top')\n",
    "axes.text(.95*axes.get_xlim()[-1], .85*axes.get_ylim()[-1], f\"t = {np.round(1/b,2)}\",\n",
    "horizontalalignment='right',verticalalignment='top')\n",
    "\n",
    "y_line = exponentialDecay(x, a, b)\n",
    "# create a line plot for the mapping function\n",
    "axes.plot(x, y_line, '-', color='.15', lw=2)\n",
    "\n",
    "axes.set_title(\"Low E State\")\n",
    "axes.set_xlabel(\"Duration (s)\")\n",
    "axes.set_ylabel(\"Counts\")\n",
    "axes.tick_params(axis='x', labelsize=18)\n",
    "axes.tick_params(axis='y', labelsize=18)\n",
    "sns.despine()\n",
    "\n",
    "plt.savefig(\"/Users/karlduderstadt4/Desktop/Low_FRET_chart.png\",dpi=300,bbox_inches='tight')"
   ]
  },
  {
   "cell_type": "code",
   "execution_count": 12,
   "id": "21ec118f",
   "metadata": {},
   "outputs": [
    {
     "data": {
      "text/plain": [
       "0.02680391414948246"
      ]
     },
     "execution_count": 12,
     "metadata": {},
     "output_type": "execute_result"
    }
   ],
   "source": [
    "taoList = []\n",
    "metaUIDs = low_E_durations_df['metaUID'].unique()\n",
    "for metaUID in metaUIDs:\n",
    "    y, bin_edges = np.histogram(low_E_durations_df[low_E_durations_df['metaUID'].eq(metaUID)]['value'], bins=20, range=(0.1, 2))\n",
    "    x = (bin_edges[:-1] + bin_edges[1:]) / 2\n",
    "\n",
    "    popt, _ = curve_fit(exponentialDecay, x, y)\n",
    "    a, b = popt\n",
    "    taoList.append(1/b)\n",
    "    \n",
    "np.std(taoList)"
   ]
  },
  {
   "cell_type": "code",
   "execution_count": null,
   "id": "f2f05711",
   "metadata": {},
   "outputs": [],
   "source": []
  }
 ],
 "metadata": {
  "kernelspec": {
   "display_name": "Python 3 (ipykernel)",
   "language": "python",
   "name": "python3"
  },
  "language_info": {
   "codemirror_mode": {
    "name": "ipython",
    "version": 3
   },
   "file_extension": ".py",
   "mimetype": "text/x-python",
   "name": "python",
   "nbconvert_exporter": "python",
   "pygments_lexer": "ipython3",
   "version": "3.10.4"
  }
 },
 "nbformat": 4,
 "nbformat_minor": 5
}
