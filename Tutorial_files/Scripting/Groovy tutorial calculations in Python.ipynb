{
 "cells": [
  {
   "cell_type": "markdown",
   "metadata": {},
   "source": [
    "### Groovy tutorial calculations and plots in Python\n",
    "\n",
    "The following cells show how to do the calculations shown in the 'introduction to Groovy scripting' and 'advanced Groovy scripting' tutorials in a Jupyter notebook. The Jupyter notebook does not allow for the setting of parameters in the archive, but facilitates an easier way of plotting the results. The notebook is split into two segments: one for each of the two tutorials.\n",
    "\n",
    "**Initialization of the Notebook**"
   ]
  },
  {
   "cell_type": "code",
   "execution_count": 1,
   "metadata": {},
   "outputs": [],
   "source": [
    "import imagej\n",
    "# One needs to add the path to the Fiji application on the computer\n",
    "ij = imagej.init('/Applications/Fiji-2.app')\n",
    "# Python packages\n",
    "import scyjava as sc\n",
    "from scyjava.convert import _pandas\n",
    "import jnius\n",
    "import numpy as np\n",
    "import pandas as pd\n",
    "import matplotlib.pyplot as plt\n",
    "from jnius import autoclass\n",
    "import seaborn as sns\n",
    "\n",
    "#instantiate required classes to load archives\n",
    "File = autoclass('java.io.File')\n",
    "SingleMoleculeArchive = autoclass('de.mpg.biochem.mars.molecule.SingleMoleculeArchive')"
   ]
  },
  {
   "cell_type": "code",
   "execution_count": 2,
   "metadata": {},
   "outputs": [],
   "source": [
    "# Here the archive is loaded. Add your file path here\n",
    "yamaFile = File('/Users/nadiahuisjes/Desktop/TestVideo_archive_test.yama')\n",
    "archive = SingleMoleculeArchive(yamaFile)"
   ]
  },
  {
   "cell_type": "markdown",
   "metadata": {},
   "source": [
    "**Calculate the dist_y values with and without respect to category**"
   ]
  },
  {
   "cell_type": "code",
   "execution_count": 13,
   "metadata": {},
   "outputs": [],
   "source": [
    "# Make a list of all dist_y values \n",
    "dist_y = []\n",
    "\n",
    "for UID in archive.getMoleculeUIDs():\n",
    "    table_y = _pandas.table_to_pandas(archive.get(UID).getDataTable())[\"y\"]\n",
    "    dist_y.append(max(table_y)-min(table_y))\n",
    "    \n",
    "# Alternatively, calculate the dist_y values with respect to category\n",
    "dist_y_active = []\n",
    "dist_y_unactive = []\n",
    "\n",
    "for UID in archive.getMoleculeUIDs():\n",
    "    table_y = _pandas.table_to_pandas(archive.get(UID).getDataTable())[\"y\"]\n",
    "    if archive.get(UID).hasTag(\"Active\"):\n",
    "        dist_y_active.append(max(table_y)-min(table_y))\n",
    "    else:\n",
    "        dist_y_unactive.append(max(table_y)-min(table_y))\n",
    "\n",
    "# Convert the results into a pandas DataFrame\n",
    "x_active = [1]*len(dist_y_active)\n",
    "x_unactive = [2]*len(dist_y_unactive)\n",
    "label_active = [\"Active\"]*len(dist_y_active)\n",
    "label_unactive = [\"Not Active\"]*len(dist_y_unactive)\n",
    "\n",
    "data_active = {\"x\":x_active, \"dist_y\":dist_y_active, \"label\":label_active}\n",
    "data_unactive = {\"x\":x_unactive, \"dist_y\":dist_y_unactive, \"label\":label_unactive}\n",
    "\n",
    "df1 = pd.DataFrame(data_active,columns=[\"x\",\"dist_y\",\"label\"])\n",
    "df2 = pd.DataFrame(data_unactive,columns=[\"x\",\"dist_y\",\"label\"])\n",
    "\n",
    "df=df1.append(df2,ignore_index = True)"
   ]
  },
  {
   "cell_type": "code",
   "execution_count": 48,
   "metadata": {},
   "outputs": [
    {
     "data": {
      "text/plain": [
       "<matplotlib.axes._subplots.AxesSubplot at 0x14efc1990>"
      ]
     },
     "execution_count": 48,
     "metadata": {},
     "output_type": "execute_result"
    },
    {
     "data": {
      "image/png": "[encoded data removed]",
      "text/plain": [
       "<Figure size 360x360 with 1 Axes>"
      ]
     },
     "metadata": {
      "needs_background": "light"
     },
     "output_type": "display_data"
    }
   ],
   "source": [
    "# Plot all dist_y values in a catplot with respect to category\n",
    "sns.catplot(x='label',y='dist_y',data=df)\n",
    "sns.barplot(x='label',y='dist_y',data=df,facecolor=(1, 1, 1, 0), errcolor=\"0.2\", edgecolor=\".2\")"
   ]
  },
  {
   "cell_type": "markdown",
   "metadata": {},
   "source": [
    "Note that this plot recreates the final plot of the introductory tutorial: including confidence levels based on the calculated variance. Nevertheless, the cell below shows how to calculate variance manually.\n",
    "\n",
    "**Calculate the variance manually**"
   ]
  },
  {
   "cell_type": "code",
   "execution_count": 69,
   "metadata": {},
   "outputs": [
    {
     "name": "stdout",
     "output_type": "stream",
     "text": [
      "The variance values are: \n",
      " Overall: 55.874268147385486\n",
      " Active: 62.843641672902095 \n",
      " Not Active: 8.886396215731933 \n"
     ]
    }
   ],
   "source": [
    "list1 = []\n",
    "list2 = []\n",
    "list3 = []\n",
    "\n",
    "mean_dist_y = sum(dist_y)/len(dist_y)\n",
    "for i in dist_y_active:\n",
    "    list1.append((i - mean_dist_y)**2)\n",
    "var = sum(list1)/(len(dist_y)-1)\n",
    "\n",
    "mean_dist_y_active = sum(dist_y_active)/len(dist_y_active)\n",
    "for i in dist_y_active:\n",
    "    list2.append((i - mean_dist_y_active)**2)\n",
    "var_active = sum(list2)/(len(dist_y_active)-1)\n",
    "\n",
    "mean_dist_y_unactive = sum(dist_y_unactive)/len(dist_y_unactive)\n",
    "for i in dist_y_unactive:\n",
    "    list3.append((i - mean_dist_y_unactive)**2)\n",
    "var_unactive = sum(list3)/(len(dist_y_unactive)-1)\n",
    "\n",
    "print(f\"The variance values are: \\n Overall: {var}\\n Active: {var_active} \\n Not Active: {var_unactive} \")"
   ]
  },
  {
   "cell_type": "markdown",
   "metadata": {},
   "source": [
    "**Calculate the (uncorrected) standard deviation**"
   ]
  },
  {
   "cell_type": "code",
   "execution_count": 76,
   "metadata": {},
   "outputs": [
    {
     "name": "stdout",
     "output_type": "stream",
     "text": [
      "The standard deviations are: \n",
      " Overall: 7.474909240076798\n",
      " Active: 7.927398165407241\n",
      " Not Active: 2.9810059066918893 \n"
     ]
    }
   ],
   "source": [
    "stdv = var**0.5\n",
    "stdv_active = var_active**0.5\n",
    "stdv_unactive = var_unactive**0.5\n",
    "\n",
    "print(f\"The standard deviations are: \\n Overall: {stdv}\\n Active: {stdv_active}\\n Not Active: {stdv_unactive} \")"
   ]
  }
 ],
 "metadata": {
  "kernelspec": {
   "display_name": "pyscijava2",
   "language": "python",
   "name": "pyscijava2"
  },
  "language_info": {
   "codemirror_mode": {
    "name": "ipython",
    "version": 3
   },
   "file_extension": ".py",
   "mimetype": "text/x-python",
   "name": "python",
   "nbconvert_exporter": "python",
   "pygments_lexer": "ipython3",
   "version": "3.7.6"
  }
 },
 "nbformat": 4,
 "nbformat_minor": 2
}
