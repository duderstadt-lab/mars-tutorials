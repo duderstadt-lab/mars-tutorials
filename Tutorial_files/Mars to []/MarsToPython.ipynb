{
 "cells": [
  {
   "cell_type": "code",
   "execution_count": 1,
   "metadata": {},
   "outputs": [],
   "source": [
    "import imagej\n",
    "# One needs to add the path to the Fiji application on the computer\n",
    "ij = imagej.init('/Applications/Fiji.app')\n",
    "\n",
    "# Python packages\n",
    "import jpype\n",
    "import jpype.imports\n",
    "import scyjava as sc\n",
    "import numpy as np\n",
    "import pandas as pd\n",
    "import matplotlib.pyplot as plt\n",
    "from java.io import File\n",
    "from de.mpg.biochem.mars.molecule import SingleMoleculeArchive\n",
    "import seaborn as sns"
   ]
  },
  {
   "cell_type": "code",
   "execution_count": 2,
   "metadata": {},
   "outputs": [],
   "source": [
    "# Here the archive is loaded. Add your file path here\n",
    "# On my computer it would look like this:\n",
    "# /Users⁩/user/Documents⁩/archive.yama\n",
    "\n",
    "\n",
    "yamaFile = File('/Users/your_archive.yama')\n",
    "archive = SingleMoleculeArchive(yamaFile)"
   ]
  },
  {
   "cell_type": "code",
   "execution_count": 3,
   "metadata": {},
   "outputs": [
    {
     "name": "stdout",
     "output_type": "stream",
     "text": [
      "2AEygnwajcvHUBYGGUHcNa\n",
      "2Bvapc6kb64G5Xj8QL9Ftt\n",
      "2RWqJ7gnHHMpBpirQABc8P\n",
      "2wjTTMHZVTypxXd5EUPEN4\n",
      "34RpQUAH6P77Lfux88BbrA\n",
      "3CbhMbXkCBtKE1jZeHyJnP\n",
      "47xe98KxyQyoQVvnvkSW6C\n",
      "4aTjHdUJad7fu9pmJUTk2F\n",
      "5CvFLrVByaVCJLbZgH6Pa6\n",
      "5DMhmFWPvV3Wi1X92MVzNa\n",
      "5G1EXcdW8kChx9YFdvdp2G\n",
      "6iKbx2u7W7x8MxkUBC2Wrr\n",
      "74gbeSURpqJo25HsggfPPB\n",
      "7UadkpYucRYMAEG8bkANUF\n",
      "7xt29ZpegNppqiQ9R7r3yi\n",
      "7z3aAPmqa1tcVGAeHoQxYF\n",
      "8UBnmR417X3ybT8sHSU9z\n",
      "9Qo7nkecCKfNiDx2xaLjSp\n",
      "9ZrrDZCUroSwonFNMPkgMG\n",
      "9rLQiMgmzcdTduhdJ2TJLk\n",
      "ay8jcjE7G93e6F1AhHjUCd\n",
      "bLjCwALV3av5cgsdtC1U8c\n",
      "bZe3dCUrocn2tGJFQkvkaH\n",
      "d58NMWAXFh7dQkmQV6SDnf\n",
      "dJMEBZXVffnaJ9MkMmAjLs\n",
      "eMwV76vBck65HEWM137cFm\n",
      "eSpubLRdotPws4eqEmiguH\n",
      "fAWXLZA2CK19jchyUij8HW\n",
      "fJ7PfuMnXU9hefSDmPbKCs\n",
      "gg5vrB9vNPMWtSMYgPBRK1\n",
      "gpzkuu2RjssVTBaa7hapRv\n",
      "hTfxFnaZ3ndwrBtjHq93Rx\n",
      "hV8tozzQPz6TAnM3XXMuep\n",
      "i14xEkp84unYb2HGAYQF7G\n",
      "imTAehzxYBctscvHVE1PfG\n",
      "injypfiXdjtfzboXMLtTEh\n",
      "j8aDE3YuJsfZsgBtHC5Cgy\n",
      "jhT7Te1gqAUzEupNWPaWbF\n",
      "ko2DLTchEBenJwvokBijgs\n",
      "mykHVhhefRfNdWg8dXiihv\n",
      "nSC7L3jLehJDBAcVvBYBcN\n",
      "nYd3ma8U4HLkFLyVq1YaTz\n",
      "otL9Bq1ZWuWArtoj5qArHu\n",
      "q5uoQYkRb1uDpm192K3zQE\n",
      "qd6Z9C3ZnRFSN9z2txjKfa\n",
      "qhuKFaj3pYScuuibJiUvZN\n",
      "rHR674T9i8x4P9Ly1AopAm\n",
      "raR1VBPYXAA5nPsmM3zK7h\n",
      "rioygQAQUPC4eMeTa3HtyD\n",
      "rnRVxprmDuPFkRwSjkf577\n",
      "ro6fBhvXV5W2VyHtrLLcxf\n",
      "sjvF9oqWDsnRpBeCwSRB8Y\n",
      "srfRVXb6EHQH49omUkkdFc\n",
      "tJ46GekXXdqAhJPn5EPeFy\n",
      "tbNV987sFpCTE2Lbp43LCT\n",
      "tx4Wvm9jqZgbXhzQbDxojr\n",
      "vvBoj25avMiKqAR8QJT7dF\n",
      "x8pu4zPt1oikQ7y94p1iLo\n"
     ]
    }
   ],
   "source": [
    "for UID in archive.getMoleculeUIDs():\n",
    "    molecule = archive.get(UID)\n",
    "    print(molecule.getUID())"
   ]
  },
  {
   "cell_type": "code",
   "execution_count": 4,
   "metadata": {},
   "outputs": [
    {
     "data": {
      "text/html": [
       "<div>\n",
       "<style scoped>\n",
       "    .dataframe tbody tr th:only-of-type {\n",
       "        vertical-align: middle;\n",
       "    }\n",
       "\n",
       "    .dataframe tbody tr th {\n",
       "        vertical-align: top;\n",
       "    }\n",
       "\n",
       "    .dataframe thead th {\n",
       "        text-align: right;\n",
       "    }\n",
       "</style>\n",
       "<table border=\"1\" class=\"dataframe\">\n",
       "  <thead>\n",
       "    <tr style=\"text-align: right;\">\n",
       "      <th></th>\n",
       "      <th>(T,)</th>\n",
       "      <th>(x,)</th>\n",
       "      <th>(y,)</th>\n",
       "    </tr>\n",
       "  </thead>\n",
       "  <tbody>\n",
       "    <tr>\n",
       "      <th>0</th>\n",
       "      <td>0.0</td>\n",
       "      <td>102.138676</td>\n",
       "      <td>58.917386</td>\n",
       "    </tr>\n",
       "    <tr>\n",
       "      <th>1</th>\n",
       "      <td>1.0</td>\n",
       "      <td>101.965792</td>\n",
       "      <td>59.193276</td>\n",
       "    </tr>\n",
       "    <tr>\n",
       "      <th>2</th>\n",
       "      <td>2.0</td>\n",
       "      <td>101.950268</td>\n",
       "      <td>58.993287</td>\n",
       "    </tr>\n",
       "    <tr>\n",
       "      <th>3</th>\n",
       "      <td>3.0</td>\n",
       "      <td>101.916402</td>\n",
       "      <td>59.055642</td>\n",
       "    </tr>\n",
       "    <tr>\n",
       "      <th>4</th>\n",
       "      <td>4.0</td>\n",
       "      <td>101.795498</td>\n",
       "      <td>59.192578</td>\n",
       "    </tr>\n",
       "    <tr>\n",
       "      <th>5</th>\n",
       "      <td>5.0</td>\n",
       "      <td>101.745621</td>\n",
       "      <td>59.055990</td>\n",
       "    </tr>\n",
       "    <tr>\n",
       "      <th>6</th>\n",
       "      <td>6.0</td>\n",
       "      <td>101.872793</td>\n",
       "      <td>59.117013</td>\n",
       "    </tr>\n",
       "    <tr>\n",
       "      <th>7</th>\n",
       "      <td>7.0</td>\n",
       "      <td>101.714296</td>\n",
       "      <td>59.280417</td>\n",
       "    </tr>\n",
       "    <tr>\n",
       "      <th>8</th>\n",
       "      <td>8.0</td>\n",
       "      <td>101.908773</td>\n",
       "      <td>59.276157</td>\n",
       "    </tr>\n",
       "    <tr>\n",
       "      <th>9</th>\n",
       "      <td>9.0</td>\n",
       "      <td>101.890641</td>\n",
       "      <td>59.236317</td>\n",
       "    </tr>\n",
       "    <tr>\n",
       "      <th>10</th>\n",
       "      <td>10.0</td>\n",
       "      <td>101.799623</td>\n",
       "      <td>59.240976</td>\n",
       "    </tr>\n",
       "  </tbody>\n",
       "</table>\n",
       "</div>"
      ],
      "text/plain": [
       "    (T,)        (x,)       (y,)\n",
       "0    0.0  102.138676  58.917386\n",
       "1    1.0  101.965792  59.193276\n",
       "2    2.0  101.950268  58.993287\n",
       "3    3.0  101.916402  59.055642\n",
       "4    4.0  101.795498  59.192578\n",
       "5    5.0  101.745621  59.055990\n",
       "6    6.0  101.872793  59.117013\n",
       "7    7.0  101.714296  59.280417\n",
       "8    8.0  101.908773  59.276157\n",
       "9    9.0  101.890641  59.236317\n",
       "10  10.0  101.799623  59.240976"
      ]
     },
     "execution_count": 4,
     "metadata": {},
     "output_type": "execute_result"
    }
   ],
   "source": [
    "#get the Table for the molecule at index 0 as a pandas dataframe\n",
    "tableByIndex = sc._table_to_pandas(archive.get(0).getTable())\n",
    "tableByIndex"
   ]
  },
  {
   "cell_type": "code",
   "execution_count": 5,
   "metadata": {},
   "outputs": [
    {
     "data": {
      "text/html": [
       "<div>\n",
       "<style scoped>\n",
       "    .dataframe tbody tr th:only-of-type {\n",
       "        vertical-align: middle;\n",
       "    }\n",
       "\n",
       "    .dataframe tbody tr th {\n",
       "        vertical-align: top;\n",
       "    }\n",
       "\n",
       "    .dataframe thead th {\n",
       "        text-align: right;\n",
       "    }\n",
       "</style>\n",
       "<table border=\"1\" class=\"dataframe\">\n",
       "  <thead>\n",
       "    <tr style=\"text-align: right;\">\n",
       "      <th></th>\n",
       "      <th>(T,)</th>\n",
       "      <th>(x,)</th>\n",
       "      <th>(y,)</th>\n",
       "    </tr>\n",
       "  </thead>\n",
       "  <tbody>\n",
       "    <tr>\n",
       "      <th>0</th>\n",
       "      <td>0.0</td>\n",
       "      <td>102.138676</td>\n",
       "      <td>58.917386</td>\n",
       "    </tr>\n",
       "    <tr>\n",
       "      <th>1</th>\n",
       "      <td>1.0</td>\n",
       "      <td>101.965792</td>\n",
       "      <td>59.193276</td>\n",
       "    </tr>\n",
       "    <tr>\n",
       "      <th>2</th>\n",
       "      <td>2.0</td>\n",
       "      <td>101.950268</td>\n",
       "      <td>58.993287</td>\n",
       "    </tr>\n",
       "    <tr>\n",
       "      <th>3</th>\n",
       "      <td>3.0</td>\n",
       "      <td>101.916402</td>\n",
       "      <td>59.055642</td>\n",
       "    </tr>\n",
       "    <tr>\n",
       "      <th>4</th>\n",
       "      <td>4.0</td>\n",
       "      <td>101.795498</td>\n",
       "      <td>59.192578</td>\n",
       "    </tr>\n",
       "    <tr>\n",
       "      <th>5</th>\n",
       "      <td>5.0</td>\n",
       "      <td>101.745621</td>\n",
       "      <td>59.055990</td>\n",
       "    </tr>\n",
       "    <tr>\n",
       "      <th>6</th>\n",
       "      <td>6.0</td>\n",
       "      <td>101.872793</td>\n",
       "      <td>59.117013</td>\n",
       "    </tr>\n",
       "    <tr>\n",
       "      <th>7</th>\n",
       "      <td>7.0</td>\n",
       "      <td>101.714296</td>\n",
       "      <td>59.280417</td>\n",
       "    </tr>\n",
       "    <tr>\n",
       "      <th>8</th>\n",
       "      <td>8.0</td>\n",
       "      <td>101.908773</td>\n",
       "      <td>59.276157</td>\n",
       "    </tr>\n",
       "    <tr>\n",
       "      <th>9</th>\n",
       "      <td>9.0</td>\n",
       "      <td>101.890641</td>\n",
       "      <td>59.236317</td>\n",
       "    </tr>\n",
       "    <tr>\n",
       "      <th>10</th>\n",
       "      <td>10.0</td>\n",
       "      <td>101.799623</td>\n",
       "      <td>59.240976</td>\n",
       "    </tr>\n",
       "  </tbody>\n",
       "</table>\n",
       "</div>"
      ],
      "text/plain": [
       "    (T,)        (x,)       (y,)\n",
       "0    0.0  102.138676  58.917386\n",
       "1    1.0  101.965792  59.193276\n",
       "2    2.0  101.950268  58.993287\n",
       "3    3.0  101.916402  59.055642\n",
       "4    4.0  101.795498  59.192578\n",
       "5    5.0  101.745621  59.055990\n",
       "6    6.0  101.872793  59.117013\n",
       "7    7.0  101.714296  59.280417\n",
       "8    8.0  101.908773  59.276157\n",
       "9    9.0  101.890641  59.236317\n",
       "10  10.0  101.799623  59.240976"
      ]
     },
     "execution_count": 5,
     "metadata": {},
     "output_type": "execute_result"
    }
   ],
   "source": [
    "#get the Table for molecule UID as a pandas dataframe\n",
    "tableByUID = sc._table_to_pandas(archive.get('2AEygnwajcvHUBYGGUHcNa').getTable())\n",
    "tableByUID"
   ]
  },
  {
   "cell_type": "code",
   "execution_count": 6,
   "metadata": {},
   "outputs": [],
   "source": [
    "molecules = map(lambda UID: archive.get(UID), archive.getMoleculeUIDs())\n"
   ]
  },
  {
   "cell_type": "code",
   "execution_count": 7,
   "metadata": {},
   "outputs": [
    {
     "name": "stdout",
     "output_type": "stream",
     "text": [
      "2AEygnwajcvHUBYGGUHcNa\n",
      "2Bvapc6kb64G5Xj8QL9Ftt\n",
      "2RWqJ7gnHHMpBpirQABc8P\n",
      "2wjTTMHZVTypxXd5EUPEN4\n",
      "34RpQUAH6P77Lfux88BbrA\n",
      "3CbhMbXkCBtKE1jZeHyJnP\n",
      "47xe98KxyQyoQVvnvkSW6C\n",
      "4aTjHdUJad7fu9pmJUTk2F\n",
      "5CvFLrVByaVCJLbZgH6Pa6\n",
      "5DMhmFWPvV3Wi1X92MVzNa\n",
      "5G1EXcdW8kChx9YFdvdp2G\n",
      "6iKbx2u7W7x8MxkUBC2Wrr\n",
      "74gbeSURpqJo25HsggfPPB\n",
      "7UadkpYucRYMAEG8bkANUF\n",
      "7xt29ZpegNppqiQ9R7r3yi\n",
      "7z3aAPmqa1tcVGAeHoQxYF\n",
      "8UBnmR417X3ybT8sHSU9z\n",
      "9Qo7nkecCKfNiDx2xaLjSp\n",
      "9ZrrDZCUroSwonFNMPkgMG\n",
      "9rLQiMgmzcdTduhdJ2TJLk\n",
      "ay8jcjE7G93e6F1AhHjUCd\n",
      "bLjCwALV3av5cgsdtC1U8c\n",
      "bZe3dCUrocn2tGJFQkvkaH\n",
      "d58NMWAXFh7dQkmQV6SDnf\n",
      "dJMEBZXVffnaJ9MkMmAjLs\n",
      "eMwV76vBck65HEWM137cFm\n",
      "eSpubLRdotPws4eqEmiguH\n",
      "fAWXLZA2CK19jchyUij8HW\n",
      "fJ7PfuMnXU9hefSDmPbKCs\n",
      "gg5vrB9vNPMWtSMYgPBRK1\n",
      "gpzkuu2RjssVTBaa7hapRv\n",
      "hTfxFnaZ3ndwrBtjHq93Rx\n",
      "hV8tozzQPz6TAnM3XXMuep\n",
      "i14xEkp84unYb2HGAYQF7G\n",
      "imTAehzxYBctscvHVE1PfG\n",
      "injypfiXdjtfzboXMLtTEh\n",
      "j8aDE3YuJsfZsgBtHC5Cgy\n",
      "jhT7Te1gqAUzEupNWPaWbF\n",
      "ko2DLTchEBenJwvokBijgs\n",
      "mykHVhhefRfNdWg8dXiihv\n",
      "nSC7L3jLehJDBAcVvBYBcN\n",
      "nYd3ma8U4HLkFLyVq1YaTz\n",
      "otL9Bq1ZWuWArtoj5qArHu\n",
      "q5uoQYkRb1uDpm192K3zQE\n",
      "qd6Z9C3ZnRFSN9z2txjKfa\n",
      "qhuKFaj3pYScuuibJiUvZN\n",
      "rHR674T9i8x4P9Ly1AopAm\n",
      "raR1VBPYXAA5nPsmM3zK7h\n",
      "rioygQAQUPC4eMeTa3HtyD\n",
      "rnRVxprmDuPFkRwSjkf577\n",
      "ro6fBhvXV5W2VyHtrLLcxf\n",
      "sjvF9oqWDsnRpBeCwSRB8Y\n",
      "srfRVXb6EHQH49omUkkdFc\n",
      "tJ46GekXXdqAhJPn5EPeFy\n",
      "tbNV987sFpCTE2Lbp43LCT\n",
      "tx4Wvm9jqZgbXhzQbDxojr\n",
      "vvBoj25avMiKqAR8QJT7dF\n",
      "x8pu4zPt1oikQ7y94p1iLo\n"
     ]
    }
   ],
   "source": [
    "for molecule in molecules:\n",
    "    print(molecule.getUID())   "
   ]
  },
  {
   "cell_type": "code",
   "execution_count": 8,
   "metadata": {},
   "outputs": [
    {
     "name": "stdout",
     "output_type": "stream",
     "text": [
      "34RpQUAH6P77Lfux88BbrA\n",
      "d58NMWAXFh7dQkmQV6SDnf\n",
      "eSpubLRdotPws4eqEmiguH\n",
      "hTfxFnaZ3ndwrBtjHq93Rx\n",
      "nSC7L3jLehJDBAcVvBYBcN\n",
      "nYd3ma8U4HLkFLyVq1YaTz\n",
      "q5uoQYkRb1uDpm192K3zQE\n",
      "qd6Z9C3ZnRFSN9z2txjKfa\n",
      "rnRVxprmDuPFkRwSjkf577\n",
      "tx4Wvm9jqZgbXhzQbDxojr\n"
     ]
    }
   ],
   "source": [
    "molecules = map(lambda UID: archive.get(UID), archive.getMoleculeUIDs())\n",
    "for molecule in molecules:\n",
    "    if molecule.hasTag('Active'):\n",
    "        print(molecule.getUID())"
   ]
  },
  {
   "cell_type": "code",
   "execution_count": 9,
   "metadata": {},
   "outputs": [],
   "source": [
    "VARs = list(map(lambda UID: archive.get(UID).getParameter('var'), archive.getMoleculeUIDs()))"
   ]
  },
  {
   "cell_type": "code",
   "execution_count": 10,
   "metadata": {},
   "outputs": [
    {
     "data": {
      "image/png": "[encoded data removed]",
      "text/plain": [
       "<Figure size 432x288 with 1 Axes>"
      ]
     },
     "metadata": {
      "needs_background": "light"
     },
     "output_type": "display_data"
    }
   ],
   "source": [
    "plt.xlim([min(VARs)-5, max(VARs)+5])\n",
    "\n",
    "numberofpoints = len(VARs)\n",
    "bins = round(np.sqrt(numberofpoints))\n",
    "\n",
    "plt.hist(VARs, bins=bins, alpha=0.5)\n",
    "plt.title('Variance')\n",
    "plt.xlabel('var')\n",
    "plt.ylabel('count')\n",
    "\n",
    "plt.show()"
   ]
  },
  {
   "cell_type": "code",
   "execution_count": 11,
   "metadata": {},
   "outputs": [
    {
     "name": "stderr",
     "output_type": "stream",
     "text": [
      "/Users/thomasretzer/opt/anaconda3/envs/pyimagejMars/lib/python3.8/site-packages/seaborn/distributions.py:2557: FutureWarning: `distplot` is a deprecated function and will be removed in a future version. Please adapt your code to use either `displot` (a figure-level function with similar flexibility) or `histplot` (an axes-level function for histograms).\n",
      "  warnings.warn(msg, FutureWarning)\n"
     ]
    },
    {
     "data": {
      "text/plain": [
       "<AxesSubplot:>"
      ]
     },
     "execution_count": 11,
     "metadata": {},
     "output_type": "execute_result"
    },
    {
     "data": {
      "image/png": "[encoded data removed]",
      "text/plain": [
       "<Figure size 432x288 with 1 Axes>"
      ]
     },
     "metadata": {},
     "output_type": "display_data"
    }
   ],
   "source": [
    "sns.set_style(\"darkgrid\")\n",
    "sns.distplot(VARs,kde =False, bins =bins)"
   ]
  },
  {
   "cell_type": "code",
   "execution_count": null,
   "metadata": {},
   "outputs": [],
   "source": []
  },
  {
   "cell_type": "code",
   "execution_count": null,
   "metadata": {},
   "outputs": [],
   "source": []
  }
 ],
 "metadata": {
  "kernelspec": {
   "display_name": "Python 3",
   "language": "python",
   "name": "python3"
  },
  "language_info": {
   "codemirror_mode": {
    "name": "ipython",
    "version": 3
   },
   "file_extension": ".py",
   "mimetype": "text/x-python",
   "name": "python",
   "nbconvert_exporter": "python",
   "pygments_lexer": "ipython3",
   "version": "3.8.8"
  },
  "toc": {
   "base_numbering": 1,
   "nav_menu": {},
   "number_sections": false,
   "sideBar": false,
   "skip_h1_title": false,
   "title_cell": "Table of Contents",
   "title_sidebar": "Contents",
   "toc_cell": false,
   "toc_position": {},
   "toc_section_display": false,
   "toc_window_display": false
  }
 },
 "nbformat": 4,
 "nbformat_minor": 4
}
